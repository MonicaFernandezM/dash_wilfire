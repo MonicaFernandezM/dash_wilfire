{
 "cells": [
  {
   "cell_type": "markdown",
   "id": "5483aca8-d19c-4e34-8ed9-62ab0bb3ffb5",
   "metadata": {},
   "source": [
    "# Part2: Dashboard"
   ]
  },
  {
   "cell_type": "code",
   "execution_count": 1,
   "id": "a46db32f-3e77-41af-8131-742674a78c95",
   "metadata": {
    "scrolled": true
   },
   "outputs": [],
   "source": [
    "#pip install setuptools"
   ]
  },
  {
   "cell_type": "code",
   "execution_count": 2,
   "id": "accfc9ed-514d-4ddb-97b2-faff03f94e95",
   "metadata": {},
   "outputs": [],
   "source": [
    "#pip install packaging"
   ]
  },
  {
   "cell_type": "code",
   "execution_count": 3,
   "id": "20b6c960-bd7f-4a11-b2b6-34a0fc0ef44c",
   "metadata": {},
   "outputs": [],
   "source": [
    "#pip install pandas dash"
   ]
  },
  {
   "cell_type": "code",
   "execution_count": 7,
   "id": "557fceed-7b3f-4b90-9905-306caddb9cee",
   "metadata": {},
   "outputs": [],
   "source": [
    "#pip install httpx==0.20 dash plotly"
   ]
  },
  {
   "cell_type": "code",
   "execution_count": 13,
   "id": "0f547075-1c58-4dfd-be13-73659eb6f326",
   "metadata": {},
   "outputs": [
    {
     "data": {
      "text/html": [
       "\n",
       "        <iframe\n",
       "            width=\"100%\"\n",
       "            height=\"650\"\n",
       "            src=\"http://127.0.0.1:8050/\"\n",
       "            frameborder=\"0\"\n",
       "            allowfullscreen\n",
       "            \n",
       "        ></iframe>\n",
       "        "
      ],
      "text/plain": [
       "<IPython.lib.display.IFrame at 0x1130f6cd0>"
      ]
     },
     "metadata": {},
     "output_type": "display_data"
    }
   ],
   "source": [
    "import pandas as pd\n",
    "import dash\n",
    "from dash import html, dcc\n",
    "from dash.dependencies import Input, Output, State\n",
    "import plotly.graph_objects as go\n",
    "import plotly.express as px\n",
    "from dash import no_update\n",
    "import datetime as dt\n",
    "#Create app\n",
    "app = dash.Dash(__name__)\n",
    "#Clear the layout and do not display exception till callback gets executed\n",
    "app.config.suppress_callback_exceptions = True\n",
    "# Read the wildfire data into pandas dataframe\n",
    "df =  pd.read_csv('https://cf-courses-data.s3.us.cloud-object-storage.appdomain.cloud/IBMDeveloperSkillsNetwork-DV0101EN-SkillsNetwork/Data%20Files/Historical_Wildfires.csv')\n",
    "#Extract year and month from the date column\n",
    "df['Month'] = pd.to_datetime(df['Date']).dt.month_name() #used for the names of the months\n",
    "df['Year'] = pd.to_datetime(df['Date']).dt.year\n",
    "#Layout Section of Dash\n",
    "#Task 1 Add the Title to the Dashboard\n",
    "app.layout = html.Div(children=[html.H1('Australia Wildfire Dashboard', \n",
    "                                style={'textAlign': 'center', 'color': '#503D36',\n",
    "                                'font-size': 26}),\n",
    "# TASK 2: Add the radio items and a dropdown right below the first inner division\n",
    "     #outer division starts\n",
    "     html.Div([\n",
    "                   # First inner divsion for  adding dropdown helper text for Selected Drive wheels\n",
    "                    html.Div([\n",
    "                            html.H2('Select Region:', style={'margin-right': '2em'}),\n",
    "\n",
    "                    #Radio items to select the region\n",
    "                    #dcc.RadioItems(['NSW','QL','SA','TA','VI','WA'], 'NSW', id='region',inline=True)]),\n",
    "                    dcc.RadioItems([{\"label\":\"New South Wales\",\"value\": \"NSW\"},\n",
    "                                    {\"label\":\"Northern Territory\",\"value\": \"NT\"},\n",
    "                                    {\"label\":\"Queensland\",\"value\": \"QL\"},\n",
    "                                    {\"label\":\"South Australia\",\"value\": \"SA\"},\n",
    "                                    {\"label\":\"Tasmania\",\"value\": \"TA\"},\n",
    "                                    {\"label\":\"Victoria\",\"value\": \"VI\"},\n",
    "                                    {\"label\":\"Western Australia\",\"value\": \"WA\"}],\"NSW\", id='region',inline=True)]),\n",
    "                    #Dropdown to select year\n",
    "                    html.Div([\n",
    "                            html.H2('Select Year:', style={'margin-right': '2em'}),\n",
    "                            dcc.Dropdown(df.Year.unique(), value = 2005,id='year')\n",
    "                    ]),\n",
    "#TASK 3: Add two empty divisions for output inside the next inner division. \n",
    "         #Second Inner division for adding 2 inner divisions for 2 output graphs\n",
    "                    html.Div([\n",
    "                \n",
    "                        html.Div([ ], id='plot1'),\n",
    "                        html.Div([ ], id='plot2')\n",
    "                    ], style={'display': 'flex'}),\n",
    "\n",
    "    ]),\n",
    "    #outer division ends\n",
    "\n",
    "], style={'backgroundColor': '#FFFFFF'})  # Fondo blanco\n",
    "#layout ends\n",
    "#TASK 4: Add the Ouput and input components inside the app.callback decorator.\n",
    "#Place to add @app.callback Decorator\n",
    "@app.callback([Output(component_id='plot1', component_property='children'),\n",
    "               Output(component_id='plot2', component_property='children')],\n",
    "               [Input(component_id='region', component_property='value'),\n",
    "                Input(component_id='year', component_property='value')])\n",
    "#TASK 5: Add the callback function.   \n",
    "#Place to define the callback function .\n",
    "def reg_year_display(input_region,input_year):  \n",
    "    #data\n",
    "   region_data = df[df['Region'] == input_region]\n",
    "   y_r_data = region_data[region_data['Year']==input_year]\n",
    "    #Plot one - Monthly Average Estimated Fire Area   \n",
    "   est_data = y_r_data.groupby('Month')['Estimated_fire_area'].mean().reset_index()\n",
    "   fig1 = px.pie(est_data, values='Estimated_fire_area', names='Month', title=\"{} : Monthly Average Estimated Fire Area in year {}\".format(input_region,input_year))   \n",
    "     #Plot two - Monthly Average Count of Pixels for Presumed Vegetation Fires\n",
    "   veg_data = y_r_data.groupby('Month')['Count'].mean().reset_index()\n",
    "   fig2 = px.bar(veg_data, x='Month', y='Count', title='{} : Average Count of Pixels for Presumed Vegetation Fires in year {}'.format(input_region,input_year))    \n",
    "   return [dcc.Graph(figure=fig1),\n",
    "            dcc.Graph(figure=fig2) ]\n",
    "if __name__ == '__main__':\n",
    "    app.run_server()\n",
    "    "
   ]
  },
  {
   "cell_type": "code",
   "execution_count": null,
   "id": "c823a127-e786-49a9-9827-05efaa312421",
   "metadata": {},
   "outputs": [],
   "source": []
  }
 ],
 "metadata": {
  "kernelspec": {
   "display_name": "Python 3 (ipykernel)",
   "language": "python",
   "name": "python3"
  },
  "language_info": {
   "codemirror_mode": {
    "name": "ipython",
    "version": 3
   },
   "file_extension": ".py",
   "mimetype": "text/x-python",
   "name": "python",
   "nbconvert_exporter": "python",
   "pygments_lexer": "ipython3",
   "version": "3.11.0"
  }
 },
 "nbformat": 4,
 "nbformat_minor": 5
}
